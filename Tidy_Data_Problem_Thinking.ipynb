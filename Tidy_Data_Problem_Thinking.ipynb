{
 "cells": [
  {
   "cell_type": "markdown",
   "metadata": {},
   "source": [
    "# Webinar 4: Tidy Data, Cleaning Data, Distributions, Thinking Probabilistically"
   ]
  },
  {
   "cell_type": "markdown",
   "metadata": {},
   "source": [
    "## Data cleaning takes 60-80% of data science."
   ]
  },
  {
   "cell_type": "markdown",
   "metadata": {},
   "source": [
    "### What is tidy data?"
   ]
  },
  {
   "cell_type": "markdown",
   "metadata": {},
   "source": [
    "https://vita.had.co.nz/papers/tidy-data.pdf"
   ]
  },
  {
   "cell_type": "markdown",
   "metadata": {},
   "source": [
    "We're going to study the Quaterly External Debt Statistics from the World Bank. https://datacatalog.worldbank.org/dataset/quarterly-external-debt-statistics-sdds"
   ]
  },
  {
   "cell_type": "code",
   "execution_count": 1,
   "metadata": {},
   "outputs": [],
   "source": [
    "import pandas as pd\n",
    "sdds = pd.read_csv(\"data/SDDSData.csv\")"
   ]
  },
  {
   "cell_type": "code",
   "execution_count": 2,
   "metadata": {},
   "outputs": [
    {
     "data": {
      "text/html": [
       "<div>\n",
       "<style scoped>\n",
       "    .dataframe tbody tr th:only-of-type {\n",
       "        vertical-align: middle;\n",
       "    }\n",
       "\n",
       "    .dataframe tbody tr th {\n",
       "        vertical-align: top;\n",
       "    }\n",
       "\n",
       "    .dataframe thead th {\n",
       "        text-align: right;\n",
       "    }\n",
       "</style>\n",
       "<table border=\"1\" class=\"dataframe\">\n",
       "  <thead>\n",
       "    <tr style=\"text-align: right;\">\n",
       "      <th></th>\n",
       "      <th>Country Name</th>\n",
       "      <th>Country Code</th>\n",
       "      <th>Indicator Name</th>\n",
       "      <th>Indicator Code</th>\n",
       "      <th>1998Q1</th>\n",
       "      <th>1998Q2</th>\n",
       "      <th>1998Q3</th>\n",
       "      <th>1998Q4</th>\n",
       "      <th>1999Q1</th>\n",
       "      <th>1999Q2</th>\n",
       "      <th>...</th>\n",
       "      <th>2017Q2</th>\n",
       "      <th>2017Q3</th>\n",
       "      <th>2017Q4</th>\n",
       "      <th>2018Q1</th>\n",
       "      <th>2018Q2</th>\n",
       "      <th>2018Q3</th>\n",
       "      <th>2018Q4</th>\n",
       "      <th>2019Q1</th>\n",
       "      <th>2019Q2</th>\n",
       "      <th>Unnamed: 90</th>\n",
       "    </tr>\n",
       "  </thead>\n",
       "  <tbody>\n",
       "    <tr>\n",
       "      <th>0</th>\n",
       "      <td>Afghanistan</td>\n",
       "      <td>AFG</td>\n",
       "      <td>Ext. Assets in Debt Instruments, All Sectors, ...</td>\n",
       "      <td>DT.DOD.DECT.CD.AR.EA.US</td>\n",
       "      <td>NaN</td>\n",
       "      <td>NaN</td>\n",
       "      <td>NaN</td>\n",
       "      <td>NaN</td>\n",
       "      <td>NaN</td>\n",
       "      <td>NaN</td>\n",
       "      <td>...</td>\n",
       "      <td>NaN</td>\n",
       "      <td>NaN</td>\n",
       "      <td>NaN</td>\n",
       "      <td>NaN</td>\n",
       "      <td>NaN</td>\n",
       "      <td>NaN</td>\n",
       "      <td>NaN</td>\n",
       "      <td>NaN</td>\n",
       "      <td>NaN</td>\n",
       "      <td>NaN</td>\n",
       "    </tr>\n",
       "    <tr>\n",
       "      <th>1</th>\n",
       "      <td>Afghanistan</td>\n",
       "      <td>AFG</td>\n",
       "      <td>Ext. Assets in Debt Instruments, Central Bank,...</td>\n",
       "      <td>DT.DOD.DECT.CD.MA.AR.EA.US</td>\n",
       "      <td>NaN</td>\n",
       "      <td>NaN</td>\n",
       "      <td>NaN</td>\n",
       "      <td>NaN</td>\n",
       "      <td>NaN</td>\n",
       "      <td>NaN</td>\n",
       "      <td>...</td>\n",
       "      <td>NaN</td>\n",
       "      <td>NaN</td>\n",
       "      <td>NaN</td>\n",
       "      <td>NaN</td>\n",
       "      <td>NaN</td>\n",
       "      <td>NaN</td>\n",
       "      <td>NaN</td>\n",
       "      <td>NaN</td>\n",
       "      <td>NaN</td>\n",
       "      <td>NaN</td>\n",
       "    </tr>\n",
       "    <tr>\n",
       "      <th>2</th>\n",
       "      <td>Afghanistan</td>\n",
       "      <td>AFG</td>\n",
       "      <td>Ext. Assets in Debt Instruments, Central Bank,...</td>\n",
       "      <td>DT.DOD.DLXF.CD.MA.AR.EA.US</td>\n",
       "      <td>NaN</td>\n",
       "      <td>NaN</td>\n",
       "      <td>NaN</td>\n",
       "      <td>NaN</td>\n",
       "      <td>NaN</td>\n",
       "      <td>NaN</td>\n",
       "      <td>...</td>\n",
       "      <td>NaN</td>\n",
       "      <td>NaN</td>\n",
       "      <td>NaN</td>\n",
       "      <td>NaN</td>\n",
       "      <td>NaN</td>\n",
       "      <td>NaN</td>\n",
       "      <td>NaN</td>\n",
       "      <td>NaN</td>\n",
       "      <td>NaN</td>\n",
       "      <td>NaN</td>\n",
       "    </tr>\n",
       "    <tr>\n",
       "      <th>3</th>\n",
       "      <td>Afghanistan</td>\n",
       "      <td>AFG</td>\n",
       "      <td>Ext. Assets in Debt Instruments, Central Bank,...</td>\n",
       "      <td>DT.DOD.DLCD.CD.MA.AR.EA.US</td>\n",
       "      <td>NaN</td>\n",
       "      <td>NaN</td>\n",
       "      <td>NaN</td>\n",
       "      <td>NaN</td>\n",
       "      <td>NaN</td>\n",
       "      <td>NaN</td>\n",
       "      <td>...</td>\n",
       "      <td>NaN</td>\n",
       "      <td>NaN</td>\n",
       "      <td>NaN</td>\n",
       "      <td>NaN</td>\n",
       "      <td>NaN</td>\n",
       "      <td>NaN</td>\n",
       "      <td>NaN</td>\n",
       "      <td>NaN</td>\n",
       "      <td>NaN</td>\n",
       "      <td>NaN</td>\n",
       "    </tr>\n",
       "    <tr>\n",
       "      <th>4</th>\n",
       "      <td>Afghanistan</td>\n",
       "      <td>AFG</td>\n",
       "      <td>Ext. Assets in Debt Instruments, Central Bank,...</td>\n",
       "      <td>DT.DOD.DLBN.CD.MA.AR.EA.US</td>\n",
       "      <td>NaN</td>\n",
       "      <td>NaN</td>\n",
       "      <td>NaN</td>\n",
       "      <td>NaN</td>\n",
       "      <td>NaN</td>\n",
       "      <td>NaN</td>\n",
       "      <td>...</td>\n",
       "      <td>NaN</td>\n",
       "      <td>NaN</td>\n",
       "      <td>NaN</td>\n",
       "      <td>NaN</td>\n",
       "      <td>NaN</td>\n",
       "      <td>NaN</td>\n",
       "      <td>NaN</td>\n",
       "      <td>NaN</td>\n",
       "      <td>NaN</td>\n",
       "      <td>NaN</td>\n",
       "    </tr>\n",
       "  </tbody>\n",
       "</table>\n",
       "<p>5 rows × 91 columns</p>\n",
       "</div>"
      ],
      "text/plain": [
       "  Country Name Country Code  \\\n",
       "0  Afghanistan          AFG   \n",
       "1  Afghanistan          AFG   \n",
       "2  Afghanistan          AFG   \n",
       "3  Afghanistan          AFG   \n",
       "4  Afghanistan          AFG   \n",
       "\n",
       "                                      Indicator Name  \\\n",
       "0  Ext. Assets in Debt Instruments, All Sectors, ...   \n",
       "1  Ext. Assets in Debt Instruments, Central Bank,...   \n",
       "2  Ext. Assets in Debt Instruments, Central Bank,...   \n",
       "3  Ext. Assets in Debt Instruments, Central Bank,...   \n",
       "4  Ext. Assets in Debt Instruments, Central Bank,...   \n",
       "\n",
       "               Indicator Code  1998Q1  1998Q2  1998Q3  1998Q4  1999Q1  1999Q2  \\\n",
       "0     DT.DOD.DECT.CD.AR.EA.US     NaN     NaN     NaN     NaN     NaN     NaN   \n",
       "1  DT.DOD.DECT.CD.MA.AR.EA.US     NaN     NaN     NaN     NaN     NaN     NaN   \n",
       "2  DT.DOD.DLXF.CD.MA.AR.EA.US     NaN     NaN     NaN     NaN     NaN     NaN   \n",
       "3  DT.DOD.DLCD.CD.MA.AR.EA.US     NaN     NaN     NaN     NaN     NaN     NaN   \n",
       "4  DT.DOD.DLBN.CD.MA.AR.EA.US     NaN     NaN     NaN     NaN     NaN     NaN   \n",
       "\n",
       "   ...  2017Q2  2017Q3  2017Q4  2018Q1  2018Q2  2018Q3  2018Q4  2019Q1  \\\n",
       "0  ...     NaN     NaN     NaN     NaN     NaN     NaN     NaN     NaN   \n",
       "1  ...     NaN     NaN     NaN     NaN     NaN     NaN     NaN     NaN   \n",
       "2  ...     NaN     NaN     NaN     NaN     NaN     NaN     NaN     NaN   \n",
       "3  ...     NaN     NaN     NaN     NaN     NaN     NaN     NaN     NaN   \n",
       "4  ...     NaN     NaN     NaN     NaN     NaN     NaN     NaN     NaN   \n",
       "\n",
       "   2019Q2  Unnamed: 90  \n",
       "0     NaN          NaN  \n",
       "1     NaN          NaN  \n",
       "2     NaN          NaN  \n",
       "3     NaN          NaN  \n",
       "4     NaN          NaN  \n",
       "\n",
       "[5 rows x 91 columns]"
      ]
     },
     "execution_count": 2,
     "metadata": {},
     "output_type": "execute_result"
    }
   ],
   "source": [
    "sdds.head()"
   ]
  },
  {
   "cell_type": "markdown",
   "metadata": {},
   "source": [
    "- Is each row a separate record?\n",
    "- How will the data be used?\n",
    "- Will you eventyally migrate the data into a relational database?"
   ]
  },
  {
   "cell_type": "code",
   "execution_count": 3,
   "metadata": {},
   "outputs": [
    {
     "data": {
      "text/plain": [
       "\u001b[1;31mSignature:\u001b[0m\n",
       "\u001b[0mpd\u001b[0m\u001b[1;33m.\u001b[0m\u001b[0mmelt\u001b[0m\u001b[1;33m(\u001b[0m\u001b[1;33m\n",
       "\u001b[0m    \u001b[0mframe\u001b[0m\u001b[1;33m:\u001b[0m \u001b[1;34m'DataFrame'\u001b[0m\u001b[1;33m,\u001b[0m\u001b[1;33m\n",
       "\u001b[0m    \u001b[0mid_vars\u001b[0m\u001b[1;33m=\u001b[0m\u001b[1;32mNone\u001b[0m\u001b[1;33m,\u001b[0m\u001b[1;33m\n",
       "\u001b[0m    \u001b[0mvalue_vars\u001b[0m\u001b[1;33m=\u001b[0m\u001b[1;32mNone\u001b[0m\u001b[1;33m,\u001b[0m\u001b[1;33m\n",
       "\u001b[0m    \u001b[0mvar_name\u001b[0m\u001b[1;33m=\u001b[0m\u001b[1;32mNone\u001b[0m\u001b[1;33m,\u001b[0m\u001b[1;33m\n",
       "\u001b[0m    \u001b[0mvalue_name\u001b[0m\u001b[1;33m=\u001b[0m\u001b[1;34m'value'\u001b[0m\u001b[1;33m,\u001b[0m\u001b[1;33m\n",
       "\u001b[0m    \u001b[0mcol_level\u001b[0m\u001b[1;33m=\u001b[0m\u001b[1;32mNone\u001b[0m\u001b[1;33m,\u001b[0m\u001b[1;33m\n",
       "\u001b[0m    \u001b[0mignore_index\u001b[0m\u001b[1;33m:\u001b[0m \u001b[0mbool\u001b[0m \u001b[1;33m=\u001b[0m \u001b[1;32mTrue\u001b[0m\u001b[1;33m,\u001b[0m\u001b[1;33m\n",
       "\u001b[0m\u001b[1;33m)\u001b[0m \u001b[1;33m->\u001b[0m \u001b[1;34m'DataFrame'\u001b[0m\u001b[1;33m\u001b[0m\u001b[1;33m\u001b[0m\u001b[0m\n",
       "\u001b[1;31mDocstring:\u001b[0m\n",
       "Unpivot a DataFrame from wide to long format, optionally leaving identifiers set.\n",
       "\n",
       "This function is useful to massage a DataFrame into a format where one\n",
       "or more columns are identifier variables (`id_vars`), while all other\n",
       "columns, considered measured variables (`value_vars`), are \"unpivoted\" to\n",
       "the row axis, leaving just two non-identifier columns, 'variable' and\n",
       "'value'.\n",
       "\n",
       "Parameters\n",
       "----------\n",
       "id_vars : tuple, list, or ndarray, optional\n",
       "    Column(s) to use as identifier variables.\n",
       "value_vars : tuple, list, or ndarray, optional\n",
       "    Column(s) to unpivot. If not specified, uses all columns that\n",
       "    are not set as `id_vars`.\n",
       "var_name : scalar\n",
       "    Name to use for the 'variable' column. If None it uses\n",
       "    ``frame.columns.name`` or 'variable'.\n",
       "value_name : scalar, default 'value'\n",
       "    Name to use for the 'value' column.\n",
       "col_level : int or str, optional\n",
       "    If columns are a MultiIndex then use this level to melt.\n",
       "ignore_index : bool, default True\n",
       "    If True, original index is ignored. If False, the original index is retained.\n",
       "    Index labels will be repeated as necessary.\n",
       "\n",
       "    .. versionadded:: 1.1.0\n",
       "\n",
       "Returns\n",
       "-------\n",
       "DataFrame\n",
       "    Unpivoted DataFrame.\n",
       "\n",
       "See Also\n",
       "--------\n",
       "DataFrame.melt : Identical method.\n",
       "pivot_table : Create a spreadsheet-style pivot table as a DataFrame.\n",
       "DataFrame.pivot : Return reshaped DataFrame organized\n",
       "    by given index / column values.\n",
       "DataFrame.explode : Explode a DataFrame from list-like\n",
       "        columns to long format.\n",
       "\n",
       "Examples\n",
       "--------\n",
       ">>> df = pd.DataFrame({'A': {0: 'a', 1: 'b', 2: 'c'},\n",
       "...                    'B': {0: 1, 1: 3, 2: 5},\n",
       "...                    'C': {0: 2, 1: 4, 2: 6}})\n",
       ">>> df\n",
       "   A  B  C\n",
       "0  a  1  2\n",
       "1  b  3  4\n",
       "2  c  5  6\n",
       "\n",
       ">>> pd.melt(df, id_vars=['A'], value_vars=['B'])\n",
       "   A variable  value\n",
       "0  a        B      1\n",
       "1  b        B      3\n",
       "2  c        B      5\n",
       "\n",
       ">>> pd.melt(df, id_vars=['A'], value_vars=['B', 'C'])\n",
       "   A variable  value\n",
       "0  a        B      1\n",
       "1  b        B      3\n",
       "2  c        B      5\n",
       "3  a        C      2\n",
       "4  b        C      4\n",
       "5  c        C      6\n",
       "\n",
       "The names of 'variable' and 'value' columns can be customized:\n",
       "\n",
       ">>> pd.melt(df, id_vars=['A'], value_vars=['B'],\n",
       "...         var_name='myVarname', value_name='myValname')\n",
       "   A myVarname  myValname\n",
       "0  a         B          1\n",
       "1  b         B          3\n",
       "2  c         B          5\n",
       "\n",
       "Original index values can be kept around:\n",
       "\n",
       ">>> pd.melt(df, id_vars=['A'], value_vars=['B', 'C'], ignore_index=False)\n",
       "   A variable  value\n",
       "0  a        B      1\n",
       "1  b        B      3\n",
       "2  c        B      5\n",
       "0  a        C      2\n",
       "1  b        C      4\n",
       "2  c        C      6\n",
       "\n",
       "If you have multi-index columns:\n",
       "\n",
       ">>> df.columns = [list('ABC'), list('DEF')]\n",
       ">>> df\n",
       "   A  B  C\n",
       "   D  E  F\n",
       "0  a  1  2\n",
       "1  b  3  4\n",
       "2  c  5  6\n",
       "\n",
       ">>> pd.melt(df, col_level=0, id_vars=['A'], value_vars=['B'])\n",
       "   A variable  value\n",
       "0  a        B      1\n",
       "1  b        B      3\n",
       "2  c        B      5\n",
       "\n",
       ">>> pd.melt(df, id_vars=[('A', 'D')], value_vars=[('B', 'E')])\n",
       "  (A, D) variable_0 variable_1  value\n",
       "0      a          B          E      1\n",
       "1      b          B          E      3\n",
       "2      c          B          E      5\n",
       "\u001b[1;31mFile:\u001b[0m      c:\\users\\jessi\\anaconda3\\envs\\jessidata\\lib\\site-packages\\pandas\\core\\reshape\\melt.py\n",
       "\u001b[1;31mType:\u001b[0m      function\n"
      ]
     },
     "metadata": {},
     "output_type": "display_data"
    }
   ],
   "source": [
    "pd.melt?"
   ]
  },
  {
   "cell_type": "code",
   "execution_count": 4,
   "metadata": {},
   "outputs": [
    {
     "data": {
      "text/html": [
       "<div>\n",
       "<style scoped>\n",
       "    .dataframe tbody tr th:only-of-type {\n",
       "        vertical-align: middle;\n",
       "    }\n",
       "\n",
       "    .dataframe tbody tr th {\n",
       "        vertical-align: top;\n",
       "    }\n",
       "\n",
       "    .dataframe thead th {\n",
       "        text-align: right;\n",
       "    }\n",
       "</style>\n",
       "<table border=\"1\" class=\"dataframe\">\n",
       "  <thead>\n",
       "    <tr style=\"text-align: right;\">\n",
       "      <th></th>\n",
       "      <th>Country Name</th>\n",
       "      <th>Country Code</th>\n",
       "      <th>Indicator Name</th>\n",
       "      <th>Indicator Code</th>\n",
       "      <th>date</th>\n",
       "      <th>quaterly_debt</th>\n",
       "    </tr>\n",
       "  </thead>\n",
       "  <tbody>\n",
       "    <tr>\n",
       "      <th>0</th>\n",
       "      <td>Afghanistan</td>\n",
       "      <td>AFG</td>\n",
       "      <td>Ext. Assets in Debt Instruments, All Sectors, ...</td>\n",
       "      <td>DT.DOD.DECT.CD.AR.EA.US</td>\n",
       "      <td>1998Q1</td>\n",
       "      <td>NaN</td>\n",
       "    </tr>\n",
       "    <tr>\n",
       "      <th>1</th>\n",
       "      <td>Afghanistan</td>\n",
       "      <td>AFG</td>\n",
       "      <td>Ext. Assets in Debt Instruments, Central Bank,...</td>\n",
       "      <td>DT.DOD.DECT.CD.MA.AR.EA.US</td>\n",
       "      <td>1998Q1</td>\n",
       "      <td>NaN</td>\n",
       "    </tr>\n",
       "    <tr>\n",
       "      <th>2</th>\n",
       "      <td>Afghanistan</td>\n",
       "      <td>AFG</td>\n",
       "      <td>Ext. Assets in Debt Instruments, Central Bank,...</td>\n",
       "      <td>DT.DOD.DLXF.CD.MA.AR.EA.US</td>\n",
       "      <td>1998Q1</td>\n",
       "      <td>NaN</td>\n",
       "    </tr>\n",
       "    <tr>\n",
       "      <th>3</th>\n",
       "      <td>Afghanistan</td>\n",
       "      <td>AFG</td>\n",
       "      <td>Ext. Assets in Debt Instruments, Central Bank,...</td>\n",
       "      <td>DT.DOD.DLCD.CD.MA.AR.EA.US</td>\n",
       "      <td>1998Q1</td>\n",
       "      <td>NaN</td>\n",
       "    </tr>\n",
       "    <tr>\n",
       "      <th>4</th>\n",
       "      <td>Afghanistan</td>\n",
       "      <td>AFG</td>\n",
       "      <td>Ext. Assets in Debt Instruments, Central Bank,...</td>\n",
       "      <td>DT.DOD.DLBN.CD.MA.AR.EA.US</td>\n",
       "      <td>1998Q1</td>\n",
       "      <td>NaN</td>\n",
       "    </tr>\n",
       "  </tbody>\n",
       "</table>\n",
       "</div>"
      ],
      "text/plain": [
       "  Country Name Country Code  \\\n",
       "0  Afghanistan          AFG   \n",
       "1  Afghanistan          AFG   \n",
       "2  Afghanistan          AFG   \n",
       "3  Afghanistan          AFG   \n",
       "4  Afghanistan          AFG   \n",
       "\n",
       "                                      Indicator Name  \\\n",
       "0  Ext. Assets in Debt Instruments, All Sectors, ...   \n",
       "1  Ext. Assets in Debt Instruments, Central Bank,...   \n",
       "2  Ext. Assets in Debt Instruments, Central Bank,...   \n",
       "3  Ext. Assets in Debt Instruments, Central Bank,...   \n",
       "4  Ext. Assets in Debt Instruments, Central Bank,...   \n",
       "\n",
       "               Indicator Code    date  quaterly_debt  \n",
       "0     DT.DOD.DECT.CD.AR.EA.US  1998Q1            NaN  \n",
       "1  DT.DOD.DECT.CD.MA.AR.EA.US  1998Q1            NaN  \n",
       "2  DT.DOD.DLXF.CD.MA.AR.EA.US  1998Q1            NaN  \n",
       "3  DT.DOD.DLCD.CD.MA.AR.EA.US  1998Q1            NaN  \n",
       "4  DT.DOD.DLBN.CD.MA.AR.EA.US  1998Q1            NaN  "
      ]
     },
     "execution_count": 4,
     "metadata": {},
     "output_type": "execute_result"
    }
   ],
   "source": [
    "sdds_tidy = pd.melt(sdds, id_vars=[\"Country Name\", \"Country Code\", \"Indicator Name\", \"Indicator Code\"], var_name=\"date\", value_name=\"quaterly_debt\")\n",
    "sdds_tidy.head()"
   ]
  },
  {
   "cell_type": "markdown",
   "metadata": {},
   "source": [
    "## Cleaning data"
   ]
  },
  {
   "cell_type": "markdown",
   "metadata": {},
   "source": [
    "- Glimpse the first rows\n",
    "- Does it have an index?\n",
    "- Is there an existing index that's currently saved as a column? "
   ]
  },
  {
   "cell_type": "code",
   "execution_count": 5,
   "metadata": {},
   "outputs": [
    {
     "name": "stdout",
     "output_type": "stream",
     "text": [
      "<class 'pandas.core.frame.DataFrame'>\n",
      "RangeIndex: 18792000 entries, 0 to 18791999\n",
      "Data columns (total 6 columns):\n",
      " #   Column          Dtype  \n",
      "---  ------          -----  \n",
      " 0   Country Name    object \n",
      " 1   Country Code    object \n",
      " 2   Indicator Name  object \n",
      " 3   Indicator Code  object \n",
      " 4   date            object \n",
      " 5   quaterly_debt   float64\n",
      "dtypes: float64(1), object(5)\n",
      "memory usage: 860.2+ MB\n"
     ]
    }
   ],
   "source": [
    "sdds_tidy.info()"
   ]
  },
  {
   "cell_type": "code",
   "execution_count": 6,
   "metadata": {},
   "outputs": [
    {
     "data": {
      "text/plain": [
       "RangeIndex(start=0, stop=18792000, step=1)"
      ]
     },
     "execution_count": 6,
     "metadata": {},
     "output_type": "execute_result"
    }
   ],
   "source": [
    "sdds_tidy.index"
   ]
  },
  {
   "cell_type": "markdown",
   "metadata": {},
   "source": [
    "### What's missing?\n",
    "\n",
    "- Where is it missing? Why?\n",
    "- How to deal with that?\n",
    "- How do you decide to drop information?"
   ]
  },
  {
   "cell_type": "code",
   "execution_count": 7,
   "metadata": {},
   "outputs": [
    {
     "data": {
      "text/plain": [
       "date\n",
       "1998Q1         0.996968\n",
       "1998Q2         0.996968\n",
       "1998Q3         0.996968\n",
       "1998Q4         0.996218\n",
       "1999Q1         0.995551\n",
       "                 ...   \n",
       "2018Q3         0.871870\n",
       "2018Q4         0.870912\n",
       "2019Q1         0.874218\n",
       "2019Q2         0.903694\n",
       "Unnamed: 90    1.000000\n",
       "Name: quaterly_debt, Length: 87, dtype: float64"
      ]
     },
     "execution_count": 7,
     "metadata": {},
     "output_type": "execute_result"
    }
   ],
   "source": [
    "sdds_tidy.quaterly_debt.isna().groupby(sdds_tidy[\"date\"]).mean()"
   ]
  },
  {
   "cell_type": "code",
   "execution_count": 10,
   "metadata": {},
   "outputs": [],
   "source": [
    "sdds_tidy = sdds_tidy.dropna(axis = \"rows\") #drop rows that contain a NaN/null value"
   ]
  },
  {
   "cell_type": "code",
   "execution_count": 11,
   "metadata": {},
   "outputs": [
    {
     "data": {
      "text/html": [
       "<div>\n",
       "<style scoped>\n",
       "    .dataframe tbody tr th:only-of-type {\n",
       "        vertical-align: middle;\n",
       "    }\n",
       "\n",
       "    .dataframe tbody tr th {\n",
       "        vertical-align: top;\n",
       "    }\n",
       "\n",
       "    .dataframe thead th {\n",
       "        text-align: right;\n",
       "    }\n",
       "</style>\n",
       "<table border=\"1\" class=\"dataframe\">\n",
       "  <thead>\n",
       "    <tr style=\"text-align: right;\">\n",
       "      <th></th>\n",
       "      <th>Country Name</th>\n",
       "      <th>Country Code</th>\n",
       "      <th>Indicator Name</th>\n",
       "      <th>Indicator Code</th>\n",
       "      <th>date</th>\n",
       "      <th>quaterly_debt</th>\n",
       "    </tr>\n",
       "  </thead>\n",
       "  <tbody>\n",
       "    <tr>\n",
       "      <th>18902</th>\n",
       "      <td>Belarus</td>\n",
       "      <td>BLR</td>\n",
       "      <td>Gross Ext. Debt Pos., All Sectors, All maturit...</td>\n",
       "      <td>DT.DOD.DECT.AR.US</td>\n",
       "      <td>1998Q1</td>\n",
       "      <td>1.725000e+08</td>\n",
       "    </tr>\n",
       "    <tr>\n",
       "      <th>18912</th>\n",
       "      <td>Belarus</td>\n",
       "      <td>BLR</td>\n",
       "      <td>Gross Ext. Debt Pos., All Sectors, All maturit...</td>\n",
       "      <td>DT.DOD.DECT.CD.AR.US</td>\n",
       "      <td>1998Q1</td>\n",
       "      <td>2.448400e+09</td>\n",
       "    </tr>\n",
       "    <tr>\n",
       "      <th>18915</th>\n",
       "      <td>Belarus</td>\n",
       "      <td>BLR</td>\n",
       "      <td>Gross Ext. Debt Pos., All Sectors, All maturit...</td>\n",
       "      <td>DT.DOD.DECT.DS.US</td>\n",
       "      <td>1998Q1</td>\n",
       "      <td>0.000000e+00</td>\n",
       "    </tr>\n",
       "    <tr>\n",
       "      <th>18919</th>\n",
       "      <td>Belarus</td>\n",
       "      <td>BLR</td>\n",
       "      <td>Gross Ext. Debt Pos., All Sectors, Long-term, ...</td>\n",
       "      <td>DT.DOD.DLXF.CD.US</td>\n",
       "      <td>1998Q1</td>\n",
       "      <td>1.024000e+09</td>\n",
       "    </tr>\n",
       "    <tr>\n",
       "      <th>18928</th>\n",
       "      <td>Belarus</td>\n",
       "      <td>BLR</td>\n",
       "      <td>Gross Ext. Debt Pos., All Sectors, Short-term,...</td>\n",
       "      <td>DT.DOD.DSTC.CD.US</td>\n",
       "      <td>1998Q1</td>\n",
       "      <td>1.424400e+09</td>\n",
       "    </tr>\n",
       "  </tbody>\n",
       "</table>\n",
       "</div>"
      ],
      "text/plain": [
       "      Country Name Country Code  \\\n",
       "18902      Belarus          BLR   \n",
       "18912      Belarus          BLR   \n",
       "18915      Belarus          BLR   \n",
       "18919      Belarus          BLR   \n",
       "18928      Belarus          BLR   \n",
       "\n",
       "                                          Indicator Name  \\\n",
       "18902  Gross Ext. Debt Pos., All Sectors, All maturit...   \n",
       "18912  Gross Ext. Debt Pos., All Sectors, All maturit...   \n",
       "18915  Gross Ext. Debt Pos., All Sectors, All maturit...   \n",
       "18919  Gross Ext. Debt Pos., All Sectors, Long-term, ...   \n",
       "18928  Gross Ext. Debt Pos., All Sectors, Short-term,...   \n",
       "\n",
       "             Indicator Code    date  quaterly_debt  \n",
       "18902     DT.DOD.DECT.AR.US  1998Q1   1.725000e+08  \n",
       "18912  DT.DOD.DECT.CD.AR.US  1998Q1   2.448400e+09  \n",
       "18915     DT.DOD.DECT.DS.US  1998Q1   0.000000e+00  \n",
       "18919     DT.DOD.DLXF.CD.US  1998Q1   1.024000e+09  \n",
       "18928     DT.DOD.DSTC.CD.US  1998Q1   1.424400e+09  "
      ]
     },
     "execution_count": 11,
     "metadata": {},
     "output_type": "execute_result"
    }
   ],
   "source": [
    "sdds_tidy.head()"
   ]
  },
  {
   "cell_type": "code",
   "execution_count": 11,
   "metadata": {},
   "outputs": [
    {
     "name": "stdout",
     "output_type": "stream",
     "text": [
      "<class 'pandas.core.frame.DataFrame'>\n",
      "Int64Index: 1229494 entries, 18902 to 18572399\n",
      "Data columns (total 6 columns):\n",
      "Country Name      1229494 non-null object\n",
      "Country Code      1229494 non-null object\n",
      "Indicator Name    1229494 non-null object\n",
      "Indicator Code    1229494 non-null object\n",
      "date              1229494 non-null object\n",
      "quaterly_debt     1229494 non-null float64\n",
      "dtypes: float64(1), object(5)\n",
      "memory usage: 65.7+ MB\n"
     ]
    }
   ],
   "source": [
    "sdds_tidy.info()"
   ]
  },
  {
   "cell_type": "markdown",
   "metadata": {},
   "source": [
    "## What are the data types?"
   ]
  },
  {
   "cell_type": "code",
   "execution_count": 12,
   "metadata": {},
   "outputs": [
    {
     "data": {
      "text/plain": [
       "Country Name       object\n",
       "Country Code       object\n",
       "Indicator Name     object\n",
       "Indicator Code     object\n",
       "date               object\n",
       "quaterly_debt     float64\n",
       "dtype: object"
      ]
     },
     "execution_count": 12,
     "metadata": {},
     "output_type": "execute_result"
    }
   ],
   "source": [
    "sdds_tidy.dtypes"
   ]
  },
  {
   "cell_type": "code",
   "execution_count": 12,
   "metadata": {},
   "outputs": [
    {
     "data": {
      "text/html": [
       "<div>\n",
       "<style scoped>\n",
       "    .dataframe tbody tr th:only-of-type {\n",
       "        vertical-align: middle;\n",
       "    }\n",
       "\n",
       "    .dataframe tbody tr th {\n",
       "        vertical-align: top;\n",
       "    }\n",
       "\n",
       "    .dataframe thead th {\n",
       "        text-align: right;\n",
       "    }\n",
       "</style>\n",
       "<table border=\"1\" class=\"dataframe\">\n",
       "  <thead>\n",
       "    <tr style=\"text-align: right;\">\n",
       "      <th></th>\n",
       "      <th>Country Name</th>\n",
       "      <th>Country Code</th>\n",
       "      <th>Indicator Name</th>\n",
       "      <th>Indicator Code</th>\n",
       "      <th>date</th>\n",
       "      <th>quaterly_debt</th>\n",
       "      <th>year</th>\n",
       "      <th>quarter</th>\n",
       "    </tr>\n",
       "  </thead>\n",
       "  <tbody>\n",
       "    <tr>\n",
       "      <th>18902</th>\n",
       "      <td>Belarus</td>\n",
       "      <td>BLR</td>\n",
       "      <td>Gross Ext. Debt Pos., All Sectors, All maturit...</td>\n",
       "      <td>DT.DOD.DECT.AR.US</td>\n",
       "      <td>1998Q1</td>\n",
       "      <td>1.725000e+08</td>\n",
       "      <td>1998</td>\n",
       "      <td>1</td>\n",
       "    </tr>\n",
       "    <tr>\n",
       "      <th>18912</th>\n",
       "      <td>Belarus</td>\n",
       "      <td>BLR</td>\n",
       "      <td>Gross Ext. Debt Pos., All Sectors, All maturit...</td>\n",
       "      <td>DT.DOD.DECT.CD.AR.US</td>\n",
       "      <td>1998Q1</td>\n",
       "      <td>2.448400e+09</td>\n",
       "      <td>1998</td>\n",
       "      <td>1</td>\n",
       "    </tr>\n",
       "    <tr>\n",
       "      <th>18915</th>\n",
       "      <td>Belarus</td>\n",
       "      <td>BLR</td>\n",
       "      <td>Gross Ext. Debt Pos., All Sectors, All maturit...</td>\n",
       "      <td>DT.DOD.DECT.DS.US</td>\n",
       "      <td>1998Q1</td>\n",
       "      <td>0.000000e+00</td>\n",
       "      <td>1998</td>\n",
       "      <td>1</td>\n",
       "    </tr>\n",
       "    <tr>\n",
       "      <th>18919</th>\n",
       "      <td>Belarus</td>\n",
       "      <td>BLR</td>\n",
       "      <td>Gross Ext. Debt Pos., All Sectors, Long-term, ...</td>\n",
       "      <td>DT.DOD.DLXF.CD.US</td>\n",
       "      <td>1998Q1</td>\n",
       "      <td>1.024000e+09</td>\n",
       "      <td>1998</td>\n",
       "      <td>1</td>\n",
       "    </tr>\n",
       "    <tr>\n",
       "      <th>18928</th>\n",
       "      <td>Belarus</td>\n",
       "      <td>BLR</td>\n",
       "      <td>Gross Ext. Debt Pos., All Sectors, Short-term,...</td>\n",
       "      <td>DT.DOD.DSTC.CD.US</td>\n",
       "      <td>1998Q1</td>\n",
       "      <td>1.424400e+09</td>\n",
       "      <td>1998</td>\n",
       "      <td>1</td>\n",
       "    </tr>\n",
       "  </tbody>\n",
       "</table>\n",
       "</div>"
      ],
      "text/plain": [
       "      Country Name Country Code  \\\n",
       "18902      Belarus          BLR   \n",
       "18912      Belarus          BLR   \n",
       "18915      Belarus          BLR   \n",
       "18919      Belarus          BLR   \n",
       "18928      Belarus          BLR   \n",
       "\n",
       "                                          Indicator Name  \\\n",
       "18902  Gross Ext. Debt Pos., All Sectors, All maturit...   \n",
       "18912  Gross Ext. Debt Pos., All Sectors, All maturit...   \n",
       "18915  Gross Ext. Debt Pos., All Sectors, All maturit...   \n",
       "18919  Gross Ext. Debt Pos., All Sectors, Long-term, ...   \n",
       "18928  Gross Ext. Debt Pos., All Sectors, Short-term,...   \n",
       "\n",
       "             Indicator Code    date  quaterly_debt  year quarter  \n",
       "18902     DT.DOD.DECT.AR.US  1998Q1   1.725000e+08  1998       1  \n",
       "18912  DT.DOD.DECT.CD.AR.US  1998Q1   2.448400e+09  1998       1  \n",
       "18915     DT.DOD.DECT.DS.US  1998Q1   0.000000e+00  1998       1  \n",
       "18919     DT.DOD.DLXF.CD.US  1998Q1   1.024000e+09  1998       1  \n",
       "18928     DT.DOD.DSTC.CD.US  1998Q1   1.424400e+09  1998       1  "
      ]
     },
     "execution_count": 12,
     "metadata": {},
     "output_type": "execute_result"
    }
   ],
   "source": [
    "sdds_tidy[[\"year\", \"quarter\"]] = sdds_tidy[\"date\"].str.split(\"Q\", n=1, expand=True)\n",
    "sdds_tidy.head()"
   ]
  },
  {
   "cell_type": "code",
   "execution_count": 13,
   "metadata": {},
   "outputs": [
    {
     "data": {
      "text/html": [
       "<div>\n",
       "<style scoped>\n",
       "    .dataframe tbody tr th:only-of-type {\n",
       "        vertical-align: middle;\n",
       "    }\n",
       "\n",
       "    .dataframe tbody tr th {\n",
       "        vertical-align: top;\n",
       "    }\n",
       "\n",
       "    .dataframe thead th {\n",
       "        text-align: right;\n",
       "    }\n",
       "</style>\n",
       "<table border=\"1\" class=\"dataframe\">\n",
       "  <thead>\n",
       "    <tr style=\"text-align: right;\">\n",
       "      <th></th>\n",
       "      <th></th>\n",
       "      <th>Country Name</th>\n",
       "      <th>Country Code</th>\n",
       "      <th>Indicator Name</th>\n",
       "      <th>Indicator Code</th>\n",
       "      <th>date</th>\n",
       "      <th>quaterly_debt</th>\n",
       "    </tr>\n",
       "    <tr>\n",
       "      <th>year</th>\n",
       "      <th>quarter</th>\n",
       "      <th></th>\n",
       "      <th></th>\n",
       "      <th></th>\n",
       "      <th></th>\n",
       "      <th></th>\n",
       "      <th></th>\n",
       "    </tr>\n",
       "  </thead>\n",
       "  <tbody>\n",
       "    <tr>\n",
       "      <th rowspan=\"4\" valign=\"top\">1998</th>\n",
       "      <th>1</th>\n",
       "      <td>655</td>\n",
       "      <td>655</td>\n",
       "      <td>655</td>\n",
       "      <td>655</td>\n",
       "      <td>655</td>\n",
       "      <td>655</td>\n",
       "    </tr>\n",
       "    <tr>\n",
       "      <th>2</th>\n",
       "      <td>655</td>\n",
       "      <td>655</td>\n",
       "      <td>655</td>\n",
       "      <td>655</td>\n",
       "      <td>655</td>\n",
       "      <td>655</td>\n",
       "    </tr>\n",
       "    <tr>\n",
       "      <th>3</th>\n",
       "      <td>655</td>\n",
       "      <td>655</td>\n",
       "      <td>655</td>\n",
       "      <td>655</td>\n",
       "      <td>655</td>\n",
       "      <td>655</td>\n",
       "    </tr>\n",
       "    <tr>\n",
       "      <th>4</th>\n",
       "      <td>817</td>\n",
       "      <td>817</td>\n",
       "      <td>817</td>\n",
       "      <td>817</td>\n",
       "      <td>817</td>\n",
       "      <td>817</td>\n",
       "    </tr>\n",
       "    <tr>\n",
       "      <th>1999</th>\n",
       "      <th>1</th>\n",
       "      <td>961</td>\n",
       "      <td>961</td>\n",
       "      <td>961</td>\n",
       "      <td>961</td>\n",
       "      <td>961</td>\n",
       "      <td>961</td>\n",
       "    </tr>\n",
       "    <tr>\n",
       "      <th>...</th>\n",
       "      <th>...</th>\n",
       "      <td>...</td>\n",
       "      <td>...</td>\n",
       "      <td>...</td>\n",
       "      <td>...</td>\n",
       "      <td>...</td>\n",
       "      <td>...</td>\n",
       "    </tr>\n",
       "    <tr>\n",
       "      <th rowspan=\"3\" valign=\"top\">2018</th>\n",
       "      <th>2</th>\n",
       "      <td>28047</td>\n",
       "      <td>28047</td>\n",
       "      <td>28047</td>\n",
       "      <td>28047</td>\n",
       "      <td>28047</td>\n",
       "      <td>28047</td>\n",
       "    </tr>\n",
       "    <tr>\n",
       "      <th>3</th>\n",
       "      <td>27676</td>\n",
       "      <td>27676</td>\n",
       "      <td>27676</td>\n",
       "      <td>27676</td>\n",
       "      <td>27676</td>\n",
       "      <td>27676</td>\n",
       "    </tr>\n",
       "    <tr>\n",
       "      <th>4</th>\n",
       "      <td>27883</td>\n",
       "      <td>27883</td>\n",
       "      <td>27883</td>\n",
       "      <td>27883</td>\n",
       "      <td>27883</td>\n",
       "      <td>27883</td>\n",
       "    </tr>\n",
       "    <tr>\n",
       "      <th rowspan=\"2\" valign=\"top\">2019</th>\n",
       "      <th>1</th>\n",
       "      <td>27169</td>\n",
       "      <td>27169</td>\n",
       "      <td>27169</td>\n",
       "      <td>27169</td>\n",
       "      <td>27169</td>\n",
       "      <td>27169</td>\n",
       "    </tr>\n",
       "    <tr>\n",
       "      <th>2</th>\n",
       "      <td>20802</td>\n",
       "      <td>20802</td>\n",
       "      <td>20802</td>\n",
       "      <td>20802</td>\n",
       "      <td>20802</td>\n",
       "      <td>20802</td>\n",
       "    </tr>\n",
       "  </tbody>\n",
       "</table>\n",
       "<p>86 rows × 6 columns</p>\n",
       "</div>"
      ],
      "text/plain": [
       "              Country Name  Country Code  Indicator Name  Indicator Code  \\\n",
       "year quarter                                                               \n",
       "1998 1                 655           655             655             655   \n",
       "     2                 655           655             655             655   \n",
       "     3                 655           655             655             655   \n",
       "     4                 817           817             817             817   \n",
       "1999 1                 961           961             961             961   \n",
       "...                    ...           ...             ...             ...   \n",
       "2018 2               28047         28047           28047           28047   \n",
       "     3               27676         27676           27676           27676   \n",
       "     4               27883         27883           27883           27883   \n",
       "2019 1               27169         27169           27169           27169   \n",
       "     2               20802         20802           20802           20802   \n",
       "\n",
       "               date  quaterly_debt  \n",
       "year quarter                        \n",
       "1998 1          655            655  \n",
       "     2          655            655  \n",
       "     3          655            655  \n",
       "     4          817            817  \n",
       "1999 1          961            961  \n",
       "...             ...            ...  \n",
       "2018 2        28047          28047  \n",
       "     3        27676          27676  \n",
       "     4        27883          27883  \n",
       "2019 1        27169          27169  \n",
       "     2        20802          20802  \n",
       "\n",
       "[86 rows x 6 columns]"
      ]
     },
     "execution_count": 13,
     "metadata": {},
     "output_type": "execute_result"
    }
   ],
   "source": [
    "# Counts\n",
    "sdds_tidy.groupby([\"year\",\"quarter\"]).count()"
   ]
  },
  {
   "cell_type": "code",
   "execution_count": 14,
   "metadata": {},
   "outputs": [
    {
     "data": {
      "text/html": [
       "<div>\n",
       "<style scoped>\n",
       "    .dataframe tbody tr th:only-of-type {\n",
       "        vertical-align: middle;\n",
       "    }\n",
       "\n",
       "    .dataframe tbody tr th {\n",
       "        vertical-align: top;\n",
       "    }\n",
       "\n",
       "    .dataframe thead th {\n",
       "        text-align: right;\n",
       "    }\n",
       "</style>\n",
       "<table border=\"1\" class=\"dataframe\">\n",
       "  <thead>\n",
       "    <tr style=\"text-align: right;\">\n",
       "      <th></th>\n",
       "      <th>Country Name</th>\n",
       "      <th>Country Code</th>\n",
       "      <th>Indicator Name</th>\n",
       "      <th>Indicator Code</th>\n",
       "      <th>date</th>\n",
       "      <th>quaterly_debt</th>\n",
       "      <th>year</th>\n",
       "      <th>quarter</th>\n",
       "    </tr>\n",
       "  </thead>\n",
       "  <tbody>\n",
       "    <tr>\n",
       "      <th>18902</th>\n",
       "      <td>Belarus</td>\n",
       "      <td>BLR</td>\n",
       "      <td>Gross Ext. Debt Pos., All Sectors, All maturit...</td>\n",
       "      <td>DT.DOD.DECT.AR.US</td>\n",
       "      <td>1998Q1</td>\n",
       "      <td>1.725000e+08</td>\n",
       "      <td>1998</td>\n",
       "      <td>1</td>\n",
       "    </tr>\n",
       "    <tr>\n",
       "      <th>18912</th>\n",
       "      <td>Belarus</td>\n",
       "      <td>BLR</td>\n",
       "      <td>Gross Ext. Debt Pos., All Sectors, All maturit...</td>\n",
       "      <td>DT.DOD.DECT.CD.AR.US</td>\n",
       "      <td>1998Q1</td>\n",
       "      <td>2.448400e+09</td>\n",
       "      <td>1998</td>\n",
       "      <td>1</td>\n",
       "    </tr>\n",
       "    <tr>\n",
       "      <th>18915</th>\n",
       "      <td>Belarus</td>\n",
       "      <td>BLR</td>\n",
       "      <td>Gross Ext. Debt Pos., All Sectors, All maturit...</td>\n",
       "      <td>DT.DOD.DECT.DS.US</td>\n",
       "      <td>1998Q1</td>\n",
       "      <td>0.000000e+00</td>\n",
       "      <td>1998</td>\n",
       "      <td>1</td>\n",
       "    </tr>\n",
       "    <tr>\n",
       "      <th>18919</th>\n",
       "      <td>Belarus</td>\n",
       "      <td>BLR</td>\n",
       "      <td>Gross Ext. Debt Pos., All Sectors, Long-term, ...</td>\n",
       "      <td>DT.DOD.DLXF.CD.US</td>\n",
       "      <td>1998Q1</td>\n",
       "      <td>1.024000e+09</td>\n",
       "      <td>1998</td>\n",
       "      <td>1</td>\n",
       "    </tr>\n",
       "    <tr>\n",
       "      <th>18928</th>\n",
       "      <td>Belarus</td>\n",
       "      <td>BLR</td>\n",
       "      <td>Gross Ext. Debt Pos., All Sectors, Short-term,...</td>\n",
       "      <td>DT.DOD.DSTC.CD.US</td>\n",
       "      <td>1998Q1</td>\n",
       "      <td>1.424400e+09</td>\n",
       "      <td>1998</td>\n",
       "      <td>1</td>\n",
       "    </tr>\n",
       "  </tbody>\n",
       "</table>\n",
       "</div>"
      ],
      "text/plain": [
       "      Country Name Country Code  \\\n",
       "18902      Belarus          BLR   \n",
       "18912      Belarus          BLR   \n",
       "18915      Belarus          BLR   \n",
       "18919      Belarus          BLR   \n",
       "18928      Belarus          BLR   \n",
       "\n",
       "                                          Indicator Name  \\\n",
       "18902  Gross Ext. Debt Pos., All Sectors, All maturit...   \n",
       "18912  Gross Ext. Debt Pos., All Sectors, All maturit...   \n",
       "18915  Gross Ext. Debt Pos., All Sectors, All maturit...   \n",
       "18919  Gross Ext. Debt Pos., All Sectors, Long-term, ...   \n",
       "18928  Gross Ext. Debt Pos., All Sectors, Short-term,...   \n",
       "\n",
       "             Indicator Code    date  quaterly_debt  year quarter  \n",
       "18902     DT.DOD.DECT.AR.US  1998Q1   1.725000e+08  1998       1  \n",
       "18912  DT.DOD.DECT.CD.AR.US  1998Q1   2.448400e+09  1998       1  \n",
       "18915     DT.DOD.DECT.DS.US  1998Q1   0.000000e+00  1998       1  \n",
       "18919     DT.DOD.DLXF.CD.US  1998Q1   1.024000e+09  1998       1  \n",
       "18928     DT.DOD.DSTC.CD.US  1998Q1   1.424400e+09  1998       1  "
      ]
     },
     "execution_count": 14,
     "metadata": {},
     "output_type": "execute_result"
    }
   ],
   "source": [
    "sdds_tidy.head()"
   ]
  },
  {
   "cell_type": "code",
   "execution_count": 17,
   "metadata": {},
   "outputs": [
    {
     "data": {
      "text/html": [
       "<div>\n",
       "<style scoped>\n",
       "    .dataframe tbody tr th:only-of-type {\n",
       "        vertical-align: middle;\n",
       "    }\n",
       "\n",
       "    .dataframe tbody tr th {\n",
       "        vertical-align: top;\n",
       "    }\n",
       "\n",
       "    .dataframe thead th {\n",
       "        text-align: right;\n",
       "    }\n",
       "</style>\n",
       "<table border=\"1\" class=\"dataframe\">\n",
       "  <thead>\n",
       "    <tr style=\"text-align: right;\">\n",
       "      <th></th>\n",
       "      <th>Country Name</th>\n",
       "      <th>Country Code</th>\n",
       "      <th>Indicator Name</th>\n",
       "      <th>Indicator Code</th>\n",
       "      <th>1998Q1</th>\n",
       "      <th>1998Q2</th>\n",
       "      <th>1998Q3</th>\n",
       "      <th>1998Q4</th>\n",
       "      <th>1999Q1</th>\n",
       "      <th>1999Q2</th>\n",
       "      <th>...</th>\n",
       "      <th>2017Q2</th>\n",
       "      <th>2017Q3</th>\n",
       "      <th>2017Q4</th>\n",
       "      <th>2018Q1</th>\n",
       "      <th>2018Q2</th>\n",
       "      <th>2018Q3</th>\n",
       "      <th>2018Q4</th>\n",
       "      <th>2019Q1</th>\n",
       "      <th>2019Q2</th>\n",
       "      <th>Unnamed: 90</th>\n",
       "    </tr>\n",
       "  </thead>\n",
       "  <tbody>\n",
       "    <tr>\n",
       "      <th>0</th>\n",
       "      <td>Afghanistan</td>\n",
       "      <td>AFG</td>\n",
       "      <td>Ext. Assets in Debt Instruments, All Sectors, ...</td>\n",
       "      <td>DT.DOD.DECT.CD.AR.EA.US</td>\n",
       "      <td>NaN</td>\n",
       "      <td>NaN</td>\n",
       "      <td>NaN</td>\n",
       "      <td>NaN</td>\n",
       "      <td>NaN</td>\n",
       "      <td>NaN</td>\n",
       "      <td>...</td>\n",
       "      <td>NaN</td>\n",
       "      <td>NaN</td>\n",
       "      <td>NaN</td>\n",
       "      <td>NaN</td>\n",
       "      <td>NaN</td>\n",
       "      <td>NaN</td>\n",
       "      <td>NaN</td>\n",
       "      <td>NaN</td>\n",
       "      <td>NaN</td>\n",
       "      <td>NaN</td>\n",
       "    </tr>\n",
       "    <tr>\n",
       "      <th>1</th>\n",
       "      <td>Afghanistan</td>\n",
       "      <td>AFG</td>\n",
       "      <td>Ext. Assets in Debt Instruments, Central Bank,...</td>\n",
       "      <td>DT.DOD.DECT.CD.MA.AR.EA.US</td>\n",
       "      <td>NaN</td>\n",
       "      <td>NaN</td>\n",
       "      <td>NaN</td>\n",
       "      <td>NaN</td>\n",
       "      <td>NaN</td>\n",
       "      <td>NaN</td>\n",
       "      <td>...</td>\n",
       "      <td>NaN</td>\n",
       "      <td>NaN</td>\n",
       "      <td>NaN</td>\n",
       "      <td>NaN</td>\n",
       "      <td>NaN</td>\n",
       "      <td>NaN</td>\n",
       "      <td>NaN</td>\n",
       "      <td>NaN</td>\n",
       "      <td>NaN</td>\n",
       "      <td>NaN</td>\n",
       "    </tr>\n",
       "    <tr>\n",
       "      <th>2</th>\n",
       "      <td>Afghanistan</td>\n",
       "      <td>AFG</td>\n",
       "      <td>Ext. Assets in Debt Instruments, Central Bank,...</td>\n",
       "      <td>DT.DOD.DLXF.CD.MA.AR.EA.US</td>\n",
       "      <td>NaN</td>\n",
       "      <td>NaN</td>\n",
       "      <td>NaN</td>\n",
       "      <td>NaN</td>\n",
       "      <td>NaN</td>\n",
       "      <td>NaN</td>\n",
       "      <td>...</td>\n",
       "      <td>NaN</td>\n",
       "      <td>NaN</td>\n",
       "      <td>NaN</td>\n",
       "      <td>NaN</td>\n",
       "      <td>NaN</td>\n",
       "      <td>NaN</td>\n",
       "      <td>NaN</td>\n",
       "      <td>NaN</td>\n",
       "      <td>NaN</td>\n",
       "      <td>NaN</td>\n",
       "    </tr>\n",
       "    <tr>\n",
       "      <th>3</th>\n",
       "      <td>Afghanistan</td>\n",
       "      <td>AFG</td>\n",
       "      <td>Ext. Assets in Debt Instruments, Central Bank,...</td>\n",
       "      <td>DT.DOD.DLCD.CD.MA.AR.EA.US</td>\n",
       "      <td>NaN</td>\n",
       "      <td>NaN</td>\n",
       "      <td>NaN</td>\n",
       "      <td>NaN</td>\n",
       "      <td>NaN</td>\n",
       "      <td>NaN</td>\n",
       "      <td>...</td>\n",
       "      <td>NaN</td>\n",
       "      <td>NaN</td>\n",
       "      <td>NaN</td>\n",
       "      <td>NaN</td>\n",
       "      <td>NaN</td>\n",
       "      <td>NaN</td>\n",
       "      <td>NaN</td>\n",
       "      <td>NaN</td>\n",
       "      <td>NaN</td>\n",
       "      <td>NaN</td>\n",
       "    </tr>\n",
       "    <tr>\n",
       "      <th>4</th>\n",
       "      <td>Afghanistan</td>\n",
       "      <td>AFG</td>\n",
       "      <td>Ext. Assets in Debt Instruments, Central Bank,...</td>\n",
       "      <td>DT.DOD.DLBN.CD.MA.AR.EA.US</td>\n",
       "      <td>NaN</td>\n",
       "      <td>NaN</td>\n",
       "      <td>NaN</td>\n",
       "      <td>NaN</td>\n",
       "      <td>NaN</td>\n",
       "      <td>NaN</td>\n",
       "      <td>...</td>\n",
       "      <td>NaN</td>\n",
       "      <td>NaN</td>\n",
       "      <td>NaN</td>\n",
       "      <td>NaN</td>\n",
       "      <td>NaN</td>\n",
       "      <td>NaN</td>\n",
       "      <td>NaN</td>\n",
       "      <td>NaN</td>\n",
       "      <td>NaN</td>\n",
       "      <td>NaN</td>\n",
       "    </tr>\n",
       "  </tbody>\n",
       "</table>\n",
       "<p>5 rows × 91 columns</p>\n",
       "</div>"
      ],
      "text/plain": [
       "  Country Name Country Code  \\\n",
       "0  Afghanistan          AFG   \n",
       "1  Afghanistan          AFG   \n",
       "2  Afghanistan          AFG   \n",
       "3  Afghanistan          AFG   \n",
       "4  Afghanistan          AFG   \n",
       "\n",
       "                                      Indicator Name  \\\n",
       "0  Ext. Assets in Debt Instruments, All Sectors, ...   \n",
       "1  Ext. Assets in Debt Instruments, Central Bank,...   \n",
       "2  Ext. Assets in Debt Instruments, Central Bank,...   \n",
       "3  Ext. Assets in Debt Instruments, Central Bank,...   \n",
       "4  Ext. Assets in Debt Instruments, Central Bank,...   \n",
       "\n",
       "               Indicator Code  1998Q1  1998Q2  1998Q3  1998Q4  1999Q1  1999Q2  \\\n",
       "0     DT.DOD.DECT.CD.AR.EA.US     NaN     NaN     NaN     NaN     NaN     NaN   \n",
       "1  DT.DOD.DECT.CD.MA.AR.EA.US     NaN     NaN     NaN     NaN     NaN     NaN   \n",
       "2  DT.DOD.DLXF.CD.MA.AR.EA.US     NaN     NaN     NaN     NaN     NaN     NaN   \n",
       "3  DT.DOD.DLCD.CD.MA.AR.EA.US     NaN     NaN     NaN     NaN     NaN     NaN   \n",
       "4  DT.DOD.DLBN.CD.MA.AR.EA.US     NaN     NaN     NaN     NaN     NaN     NaN   \n",
       "\n",
       "   ...  2017Q2  2017Q3  2017Q4  2018Q1  2018Q2  2018Q3  2018Q4  2019Q1  \\\n",
       "0  ...     NaN     NaN     NaN     NaN     NaN     NaN     NaN     NaN   \n",
       "1  ...     NaN     NaN     NaN     NaN     NaN     NaN     NaN     NaN   \n",
       "2  ...     NaN     NaN     NaN     NaN     NaN     NaN     NaN     NaN   \n",
       "3  ...     NaN     NaN     NaN     NaN     NaN     NaN     NaN     NaN   \n",
       "4  ...     NaN     NaN     NaN     NaN     NaN     NaN     NaN     NaN   \n",
       "\n",
       "   2019Q2  Unnamed: 90  \n",
       "0     NaN          NaN  \n",
       "1     NaN          NaN  \n",
       "2     NaN          NaN  \n",
       "3     NaN          NaN  \n",
       "4     NaN          NaN  \n",
       "\n",
       "[5 rows x 91 columns]"
      ]
     },
     "execution_count": 17,
     "metadata": {},
     "output_type": "execute_result"
    }
   ],
   "source": [
    "sdds.head()"
   ]
  },
  {
   "cell_type": "code",
   "execution_count": 15,
   "metadata": {},
   "outputs": [],
   "source": [
    "sdds_tidy = sdds_tidy.drop(\"date\", axis=\"columns\")"
   ]
  },
  {
   "cell_type": "code",
   "execution_count": 16,
   "metadata": {},
   "outputs": [
    {
     "data": {
      "text/html": [
       "<div>\n",
       "<style scoped>\n",
       "    .dataframe tbody tr th:only-of-type {\n",
       "        vertical-align: middle;\n",
       "    }\n",
       "\n",
       "    .dataframe tbody tr th {\n",
       "        vertical-align: top;\n",
       "    }\n",
       "\n",
       "    .dataframe thead th {\n",
       "        text-align: right;\n",
       "    }\n",
       "</style>\n",
       "<table border=\"1\" class=\"dataframe\">\n",
       "  <thead>\n",
       "    <tr style=\"text-align: right;\">\n",
       "      <th></th>\n",
       "      <th>Country Name</th>\n",
       "      <th>Country Code</th>\n",
       "      <th>Indicator Name</th>\n",
       "      <th>Indicator Code</th>\n",
       "      <th>quaterly_debt</th>\n",
       "      <th>year</th>\n",
       "      <th>quarter</th>\n",
       "    </tr>\n",
       "  </thead>\n",
       "  <tbody>\n",
       "    <tr>\n",
       "      <th>18902</th>\n",
       "      <td>Belarus</td>\n",
       "      <td>BLR</td>\n",
       "      <td>Gross Ext. Debt Pos., All Sectors, All maturit...</td>\n",
       "      <td>DT.DOD.DECT.AR.US</td>\n",
       "      <td>1.725000e+08</td>\n",
       "      <td>1998</td>\n",
       "      <td>1</td>\n",
       "    </tr>\n",
       "    <tr>\n",
       "      <th>18912</th>\n",
       "      <td>Belarus</td>\n",
       "      <td>BLR</td>\n",
       "      <td>Gross Ext. Debt Pos., All Sectors, All maturit...</td>\n",
       "      <td>DT.DOD.DECT.CD.AR.US</td>\n",
       "      <td>2.448400e+09</td>\n",
       "      <td>1998</td>\n",
       "      <td>1</td>\n",
       "    </tr>\n",
       "    <tr>\n",
       "      <th>18915</th>\n",
       "      <td>Belarus</td>\n",
       "      <td>BLR</td>\n",
       "      <td>Gross Ext. Debt Pos., All Sectors, All maturit...</td>\n",
       "      <td>DT.DOD.DECT.DS.US</td>\n",
       "      <td>0.000000e+00</td>\n",
       "      <td>1998</td>\n",
       "      <td>1</td>\n",
       "    </tr>\n",
       "    <tr>\n",
       "      <th>18919</th>\n",
       "      <td>Belarus</td>\n",
       "      <td>BLR</td>\n",
       "      <td>Gross Ext. Debt Pos., All Sectors, Long-term, ...</td>\n",
       "      <td>DT.DOD.DLXF.CD.US</td>\n",
       "      <td>1.024000e+09</td>\n",
       "      <td>1998</td>\n",
       "      <td>1</td>\n",
       "    </tr>\n",
       "    <tr>\n",
       "      <th>18928</th>\n",
       "      <td>Belarus</td>\n",
       "      <td>BLR</td>\n",
       "      <td>Gross Ext. Debt Pos., All Sectors, Short-term,...</td>\n",
       "      <td>DT.DOD.DSTC.CD.US</td>\n",
       "      <td>1.424400e+09</td>\n",
       "      <td>1998</td>\n",
       "      <td>1</td>\n",
       "    </tr>\n",
       "  </tbody>\n",
       "</table>\n",
       "</div>"
      ],
      "text/plain": [
       "      Country Name Country Code  \\\n",
       "18902      Belarus          BLR   \n",
       "18912      Belarus          BLR   \n",
       "18915      Belarus          BLR   \n",
       "18919      Belarus          BLR   \n",
       "18928      Belarus          BLR   \n",
       "\n",
       "                                          Indicator Name  \\\n",
       "18902  Gross Ext. Debt Pos., All Sectors, All maturit...   \n",
       "18912  Gross Ext. Debt Pos., All Sectors, All maturit...   \n",
       "18915  Gross Ext. Debt Pos., All Sectors, All maturit...   \n",
       "18919  Gross Ext. Debt Pos., All Sectors, Long-term, ...   \n",
       "18928  Gross Ext. Debt Pos., All Sectors, Short-term,...   \n",
       "\n",
       "             Indicator Code  quaterly_debt  year quarter  \n",
       "18902     DT.DOD.DECT.AR.US   1.725000e+08  1998       1  \n",
       "18912  DT.DOD.DECT.CD.AR.US   2.448400e+09  1998       1  \n",
       "18915     DT.DOD.DECT.DS.US   0.000000e+00  1998       1  \n",
       "18919     DT.DOD.DLXF.CD.US   1.024000e+09  1998       1  \n",
       "18928     DT.DOD.DSTC.CD.US   1.424400e+09  1998       1  "
      ]
     },
     "execution_count": 16,
     "metadata": {},
     "output_type": "execute_result"
    }
   ],
   "source": [
    "sdds_tidy.head()"
   ]
  },
  {
   "cell_type": "markdown",
   "metadata": {},
   "source": [
    "Resource: Introduction to Relational Databases -- Turn a giant Spreadsheet into a Relational SQL database."
   ]
  },
  {
   "cell_type": "markdown",
   "metadata": {},
   "source": [
    "# Distributions and Thinking Probabilistically"
   ]
  },
  {
   "cell_type": "markdown",
   "metadata": {},
   "source": [
    "What distributions are the most important within data science? Why?"
   ]
  },
  {
   "cell_type": "markdown",
   "metadata": {},
   "source": [
    "## Normal distribution"
   ]
  },
  {
   "cell_type": "markdown",
   "metadata": {},
   "source": [
    "The standard normal distribution is the one with mean 0 and std 1."
   ]
  },
  {
   "cell_type": "code",
   "execution_count": 18,
   "metadata": {},
   "outputs": [],
   "source": [
    "import numpy as np\n",
    "ndist50 = np.random.normal(0,1,50)\n",
    "ndist500 = np.random.normal(0,1,500)\n",
    "ndist5000 = np.random.normal(0,1,5000)"
   ]
  },
  {
   "cell_type": "code",
   "execution_count": 19,
   "metadata": {},
   "outputs": [
    {
     "data": {
      "text/plain": [
       "array([ 1.02156297,  1.22611661,  0.34111576, -0.27852643, -1.06063736,\n",
       "       -0.37430042, -0.18346957,  0.66594347, -0.32673461, -0.39312364,\n",
       "        0.34823548, -0.13239421, -0.28716717, -0.62563275, -1.39361611,\n",
       "       -0.04164757,  0.96009535, -0.2764572 , -1.31598119,  0.07151407,\n",
       "        0.35727347, -0.5263405 ,  1.80271862,  0.55668599,  0.14268468,\n",
       "       -1.33493597,  0.66049895, -0.55698063, -0.91563286,  1.56373235,\n",
       "       -1.16531693,  0.95100309, -1.54691178,  0.18554306,  0.82813691,\n",
       "       -0.23801485,  0.52825682,  0.97379805,  1.63745841, -0.76635424,\n",
       "       -1.67249413,  0.43521907,  0.50808893,  0.05746312, -0.15502408,\n",
       "        0.779929  , -1.01864668, -0.10380122,  0.31115306,  1.47253254])"
      ]
     },
     "execution_count": 19,
     "metadata": {},
     "output_type": "execute_result"
    }
   ],
   "source": [
    "ndist50"
   ]
  },
  {
   "cell_type": "code",
   "execution_count": 20,
   "metadata": {},
   "outputs": [
    {
     "data": {
      "image/png": "[encoded data removed]",
      "text/plain": [
       "<Figure size 1800x360 with 3 Axes>"
      ]
     },
     "metadata": {
      "needs_background": "light"
     },
     "output_type": "display_data"
    }
   ],
   "source": [
    "import matplotlib.pyplot as plt\n",
    "\n",
    "plt.rcParams[\"figure.figsize\"] = (25,5)\n",
    "\n",
    "f, (ax1, ax2, ax3) = plt.subplots(1, 3, sharex=False, sharey=False)\n",
    "\n",
    "ax1.hist(ndist50, bins=50)\n",
    "ax2.hist(ndist500, bins=50)\n",
    "ax3.hist(ndist5000, bins=50)\n",
    "plt.show()"
   ]
  },
  {
   "cell_type": "markdown",
   "metadata": {},
   "source": [
    "## Bernoulli distribution"
   ]
  },
  {
   "cell_type": "code",
   "execution_count": 21,
   "metadata": {},
   "outputs": [],
   "source": [
    "from scipy import stats"
   ]
  },
  {
   "cell_type": "code",
   "execution_count": 22,
   "metadata": {},
   "outputs": [
    {
     "data": {
      "text/plain": [
       "3.0"
      ]
     },
     "execution_count": 22,
     "metadata": {},
     "output_type": "execute_result"
    }
   ],
   "source": [
    "stats.binom.mean(6, 0.5)"
   ]
  },
  {
   "cell_type": "code",
   "execution_count": 23,
   "metadata": {},
   "outputs": [
    {
     "data": {
      "text/plain": [
       "1.224744871391589"
      ]
     },
     "execution_count": 23,
     "metadata": {},
     "output_type": "execute_result"
    }
   ],
   "source": [
    "stats.binom.std(6, 0.5)"
   ]
  },
  {
   "cell_type": "markdown",
   "metadata": {},
   "source": [
    "## Poisson Distributions"
   ]
  },
  {
   "cell_type": "markdown",
   "metadata": {},
   "source": [
    "$$ P(x, \\lambda) = (e^{-\\lambda})(\\lambda^x) / x! $$"
   ]
  },
  {
   "cell_type": "code",
   "execution_count": 25,
   "metadata": {},
   "outputs": [],
   "source": [
    "from scipy.stats import poisson"
   ]
  },
  {
   "cell_type": "code",
   "execution_count": 26,
   "metadata": {},
   "outputs": [],
   "source": [
    "n = np.arange(0,10)\n",
    "rate= 2"
   ]
  },
  {
   "cell_type": "code",
   "execution_count": 27,
   "metadata": {},
   "outputs": [],
   "source": [
    "p = poisson.pmf(n, rate)"
   ]
  },
  {
   "cell_type": "code",
   "execution_count": 28,
   "metadata": {},
   "outputs": [
    {
     "data": {
      "text/plain": [
       "array([1.35335283e-01, 2.70670566e-01, 2.70670566e-01, 1.80447044e-01,\n",
       "       9.02235222e-02, 3.60894089e-02, 1.20298030e-02, 3.43708656e-03,\n",
       "       8.59271640e-04, 1.90949253e-04])"
      ]
     },
     "execution_count": 28,
     "metadata": {},
     "output_type": "execute_result"
    }
   ],
   "source": [
    "p"
   ]
  },
  {
   "cell_type": "code",
   "execution_count": 29,
   "metadata": {},
   "outputs": [
    {
     "data": {
      "text/plain": [
       "[<matplotlib.lines.Line2D at 0x271b815d7c0>]"
      ]
     },
     "execution_count": 29,
     "metadata": {},
     "output_type": "execute_result"
    },
    {
     "data": {
      "image/png": "[encoded data removed]",
      "text/plain": [
       "<Figure size 1800x360 with 1 Axes>"
      ]
     },
     "metadata": {
      "needs_background": "light"
     },
     "output_type": "display_data"
    }
   ],
   "source": [
    "plt.plot(n, p, \"-o\")"
   ]
  },
  {
   "cell_type": "markdown",
   "metadata": {},
   "source": [
    "## Understanding Uncertainty"
   ]
  },
  {
   "cell_type": "markdown",
   "metadata": {},
   "source": [
    "https://serc.carleton.edu/sp/library/uncertainty/what.html"
   ]
  },
  {
   "cell_type": "markdown",
   "metadata": {},
   "source": [
    "http://ai.stanford.edu/~paskin/gm-short-course/lec1.pdf"
   ]
  },
  {
   "cell_type": "markdown",
   "metadata": {},
   "source": [
    "https://medium.com/@ismailalimanik/learn-to-think-probabilistically-to-improve-decision-making-76f7d2dab428"
   ]
  }
 ],
 "metadata": {
  "kernelspec": {
   "display_name": "Python 3",
   "language": "python",
   "name": "python3"
  },
  "language_info": {
   "codemirror_mode": {
    "name": "ipython",
    "version": 3
   },
   "file_extension": ".py",
   "mimetype": "text/x-python",
   "name": "python",
   "nbconvert_exporter": "python",
   "pygments_lexer": "ipython3",
   "version": "3.9.2"
  }
 },
 "nbformat": 4,
 "nbformat_minor": 4
}
