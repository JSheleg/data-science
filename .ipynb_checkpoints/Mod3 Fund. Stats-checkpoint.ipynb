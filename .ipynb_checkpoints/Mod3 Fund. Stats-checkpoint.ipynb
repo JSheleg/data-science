{
 "cells": [
  {
   "cell_type": "markdown",
   "id": "progressive-champion",
   "metadata": {},
   "source": [
    "# Module 3 live coding assignment: Fundamentals of Statistics"
   ]
  },
  {
   "cell_type": "code",
   "execution_count": 1,
   "id": "pacific-faith",
   "metadata": {},
   "outputs": [],
   "source": [
    "import numpy as np"
   ]
  },
  {
   "cell_type": "markdown",
   "id": "cultural-bobby",
   "metadata": {},
   "source": [
    "### Question 1\n",
    "Simulate the coin toss experiment using Python for the following cases:\n",
    "1. Suppose you have a fair coin and you toss it once, write a code that simulates this\n",
    "experiment. Print the result to screen. Hint: You can code 1 for head and 0 for tail.\n",
    "2. Set a random seed equal to 42. Write a code that simulates the tossing of a fair coin\n",
    "17 times. Print the result to screen.\n",
    "3. Set a random seed equal to 42. Repeat the above experiment 70 times and display\n",
    "how many times you get head in each experiment. Save the result is a vector “x” and\n",
    "print it to screen. Plot your results.\n"
   ]
  },
  {
   "cell_type": "code",
   "execution_count": 15,
   "id": "obvious-application",
   "metadata": {},
   "outputs": [
    {
     "data": {
      "text/plain": [
       "'tails'"
      ]
     },
     "execution_count": 15,
     "metadata": {},
     "output_type": "execute_result"
    }
   ],
   "source": [
    "# Question 1.1\n",
    "coin_toss = ['heads','tails']#['heads','tails']\n",
    "np.random.choice(coin_toss)"
   ]
  },
  {
   "cell_type": "code",
   "execution_count": null,
   "id": "upper-trout",
   "metadata": {},
   "outputs": [],
   "source": []
  },
  {
   "cell_type": "code",
   "execution_count": 16,
   "id": "rental-michael",
   "metadata": {},
   "outputs": [
    {
     "data": {
      "text/plain": [
       "['heads',\n",
       " 'tails',\n",
       " 'heads',\n",
       " 'heads',\n",
       " 'heads',\n",
       " 'tails',\n",
       " 'heads',\n",
       " 'heads',\n",
       " 'heads',\n",
       " 'tails',\n",
       " 'heads',\n",
       " 'heads',\n",
       " 'heads',\n",
       " 'heads',\n",
       " 'tails',\n",
       " 'heads',\n",
       " 'tails']"
      ]
     },
     "execution_count": 16,
     "metadata": {},
     "output_type": "execute_result"
    }
   ],
   "source": [
    "#Question 1.2\n",
    "np.random.seed(42)\n",
    "toss = [np.random.choice(coin_toss) for _ in range(17)]\n",
    "toss"
   ]
  },
  {
   "cell_type": "code",
   "execution_count": 20,
   "id": "gothic-battle",
   "metadata": {},
   "outputs": [],
   "source": [
    "#Question 1.3\n",
    "np.random.seed(42)\n",
    "x = []\n",
    "for i in range(70):\n",
    "    heads = np.random.randint(low = 0, high = 2, size = 17).sum()\n",
    "    x.append(heads)\n"
   ]
  },
  {
   "cell_type": "code",
   "execution_count": 21,
   "id": "covered-aquarium",
   "metadata": {},
   "outputs": [],
   "source": [
    "import matplotlib.pyplot as plt\n",
    "import seaborn as sns"
   ]
  },
  {
   "cell_type": "code",
   "execution_count": 22,
   "id": "premier-fetish",
   "metadata": {},
   "outputs": [
    {
     "data": {
      "text/plain": [
       "(array([ 1.,  1.,  3., 10., 10., 11., 11.,  8.,  7.,  8.]),\n",
       " array([ 3.,  4.,  5.,  6.,  7.,  8.,  9., 10., 11., 12., 13.]),\n",
       " <BarContainer object of 10 artists>)"
      ]
     },
     "execution_count": 22,
     "metadata": {},
     "output_type": "execute_result"
    },
    {
     "data": {
      "image/png": "[encoded data removed]",
      "text/plain": [
       "<Figure size 432x288 with 1 Axes>"
      ]
     },
     "metadata": {
      "needs_background": "light"
     },
     "output_type": "display_data"
    }
   ],
   "source": [
    "plt.hist(x)"
   ]
  },
  {
   "cell_type": "markdown",
   "id": "inappropriate-dairy",
   "metadata": {},
   "source": [
    "### Question 2\n",
    "In the experiment in Question 1.3, we tossed a fair coin 17 times. Then, we repeated the\n",
    "experiment 100 times and measured how many successes/heads we observed. Write a code\n",
    "to count how many times you see 0 heads, 1 head, ..., 17 heads with our fair coin toss and\n",
    "save the result to “head count”. Print “head count” to screen. Use the observed successes\n",
    "to estimate the probability of getting “x3” successes in n=17 coin tosses and save your result\n",
    "to “probs70”. Finally, plot your result.\n"
   ]
  },
  {
   "cell_type": "code",
   "execution_count": 25,
   "id": "recent-milton",
   "metadata": {},
   "outputs": [],
   "source": [
    "import pandas as pd"
   ]
  },
  {
   "cell_type": "code",
   "execution_count": 27,
   "id": "hairy-scottish",
   "metadata": {},
   "outputs": [],
   "source": [
    "probs_70 = {heads:x.count(heads) for heads in range(17)}"
   ]
  },
  {
   "cell_type": "code",
   "execution_count": 39,
   "id": "convenient-outline",
   "metadata": {},
   "outputs": [
    {
     "data": {
      "text/plain": [
       "<BarContainer object of 17 artists>"
      ]
     },
     "execution_count": 39,
     "metadata": {},
     "output_type": "execute_result"
    },
    {
     "data": {
      "image/png": "[encoded data removed]",
      "text/plain": [
       "<Figure size 432x288 with 1 Axes>"
      ]
     },
     "metadata": {
      "needs_background": "light"
     },
     "output_type": "display_data"
    }
   ],
   "source": [
    "plt.bar(range(17),[i/70 for i in probs_70.values()])"
   ]
  },
  {
   "cell_type": "code",
   "execution_count": 43,
   "id": "bridal-referral",
   "metadata": {},
   "outputs": [
    {
     "data": {
      "text/plain": [
       "<BarContainer object of 17 artists>"
      ]
     },
     "execution_count": 43,
     "metadata": {},
     "output_type": "execute_result"
    },
    {
     "data": {
      "image/png": "[encoded data removed]",
      "text/plain": [
       "<Figure size 432x288 with 1 Axes>"
      ]
     },
     "metadata": {
      "needs_background": "light"
     },
     "output_type": "display_data"
    }
   ],
   "source": [
    "plt.bar(range(17),[i/70 for i in probs_70.values()])"
   ]
  },
  {
   "cell_type": "code",
   "execution_count": null,
   "id": "opposite-africa",
   "metadata": {},
   "outputs": [],
   "source": []
  },
  {
   "cell_type": "code",
   "execution_count": null,
   "id": "postal-james",
   "metadata": {},
   "outputs": [],
   "source": []
  },
  {
   "cell_type": "markdown",
   "id": "artistic-emergency",
   "metadata": {},
   "source": [
    "### Question 3\n",
    "Repeat the experiment in Question 1.3 by tossing the coin 7000 times. Use the observed\n",
    "successes to estimate the probability of getting heads in n=17 coin tosses. Use the variables “x5”, “head count2” and “probs7000” instead of “x3”, “head count” and “probs70”,\n",
    "respectively.\n"
   ]
  },
  {
   "cell_type": "code",
   "execution_count": 35,
   "id": "improving-lawrence",
   "metadata": {},
   "outputs": [],
   "source": [
    "x = []\n",
    "for i in range(7000):\n",
    "    heads = np.random.randint(low = 0, high = 2, size = 17).sum()\n",
    "    x.append(heads)"
   ]
  },
  {
   "cell_type": "code",
   "execution_count": 37,
   "id": "spiritual-round",
   "metadata": {},
   "outputs": [],
   "source": [
    "probs_7000 = {heads:x.count(heads) for heads in range(17)}"
   ]
  },
  {
   "cell_type": "code",
   "execution_count": 41,
   "id": "gorgeous-medication",
   "metadata": {},
   "outputs": [
    {
     "data": {
      "text/plain": [
       "<BarContainer object of 17 artists>"
      ]
     },
     "execution_count": 41,
     "metadata": {},
     "output_type": "execute_result"
    },
    {
     "data": {
      "image/png": "[encoded data removed]",
      "text/plain": [
       "<Figure size 432x288 with 1 Axes>"
      ]
     },
     "metadata": {
      "needs_background": "light"
     },
     "output_type": "display_data"
    }
   ],
   "source": [
    "plt.bar(range(17),[i/70 for i in probs_7000.values()])"
   ]
  },
  {
   "cell_type": "markdown",
   "id": "alike-group",
   "metadata": {},
   "source": [
    "### Question 4\n",
    "Simulate the roll the dice experiment using Python for the following cases:\n",
    "1. Suppose you have a fair dice and you roll it once. Save your result to “roll once” and\n",
    "print it to screen. Hint: Use the randint function in the random library.\n",
    "\n",
    "2. Suppose you have a fair dice and you roll it 20 times. Save your result to “roll20” and\n",
    "print it to screen. Finally, plot the distribution of 20 dice rolls using an histogram.\n"
   ]
  },
  {
   "cell_type": "code",
   "execution_count": 44,
   "id": "informed-antibody",
   "metadata": {},
   "outputs": [],
   "source": [
    "roll_once = np.random.randint(0,7)"
   ]
  },
  {
   "cell_type": "code",
   "execution_count": 45,
   "id": "green-leisure",
   "metadata": {},
   "outputs": [
    {
     "data": {
      "text/plain": [
       "2"
      ]
     },
     "execution_count": 45,
     "metadata": {},
     "output_type": "execute_result"
    }
   ],
   "source": [
    "roll_once"
   ]
  },
  {
   "cell_type": "code",
   "execution_count": 46,
   "id": "fundamental-senate",
   "metadata": {},
   "outputs": [
    {
     "data": {
      "text/plain": [
       "array([0, 4, 0, 4, 5, 4, 2, 3, 5, 6, 3, 3, 1, 6, 2, 0, 3, 2, 1, 2])"
      ]
     },
     "execution_count": 46,
     "metadata": {},
     "output_type": "execute_result"
    }
   ],
   "source": [
    "roll20 = np.random.randint(0,7,20)\n",
    "roll20"
   ]
  },
  {
   "cell_type": "code",
   "execution_count": 47,
   "id": "sound-ethiopia",
   "metadata": {},
   "outputs": [
    {
     "data": {
      "text/plain": [
       "(array([3., 2., 0., 4., 0., 4., 3., 0., 2., 2.]),\n",
       " array([0. , 0.6, 1.2, 1.8, 2.4, 3. , 3.6, 4.2, 4.8, 5.4, 6. ]),\n",
       " <BarContainer object of 10 artists>)"
      ]
     },
     "execution_count": 47,
     "metadata": {},
     "output_type": "execute_result"
    },
    {
     "data": {
      "image/png": "[encoded data removed]",
      "text/plain": [
       "<Figure size 432x288 with 1 Axes>"
      ]
     },
     "metadata": {
      "needs_background": "light"
     },
     "output_type": "display_data"
    }
   ],
   "source": [
    "plt.hist(roll20)"
   ]
  },
  {
   "cell_type": "code",
   "execution_count": null,
   "id": "behavioral-costa",
   "metadata": {},
   "outputs": [],
   "source": []
  },
  {
   "cell_type": "code",
   "execution_count": null,
   "id": "maritime-calendar",
   "metadata": {},
   "outputs": [],
   "source": []
  },
  {
   "cell_type": "markdown",
   "id": "pharmaceutical-paragraph",
   "metadata": {},
   "source": [
    "### Question 5\n",
    "This question is about the T-test. Set the seed equal to 14. Generate two random sets of data\n",
    "called “data1” and “data2” with 100 data points from N(3, 50) and N(3, 51), respectively.\n",
    "Compute the calculated t-statistic and two-tailed p-value and assign them to “t stat” and\n",
    "“p val”. respectively. Print to screen your results.\n"
   ]
  },
  {
   "cell_type": "code",
   "execution_count": 48,
   "id": "affiliated-paradise",
   "metadata": {},
   "outputs": [],
   "source": [
    "np.random.seed(14)\n",
    "\n",
    "data1 = np.random.normal(loc = 3,scale = 50, size = 100)\n",
    "data2 = np.random.normal(loc = 3,scale = 51, size = 100)"
   ]
  },
  {
   "cell_type": "code",
   "execution_count": 50,
   "id": "bound-theory",
   "metadata": {},
   "outputs": [
    {
     "data": {
      "text/plain": [
       "(array([ 1.,  1.,  6., 10., 25., 22., 20.,  6.,  7.,  2.]),\n",
       " array([-168.96992699, -139.10143223, -109.23293748,  -79.36444272,\n",
       "         -49.49594796,  -19.6274532 ,   10.24104155,   40.10953631,\n",
       "          69.97803107,   99.84652582,  129.71502058]),\n",
       " <BarContainer object of 10 artists>)"
      ]
     },
     "execution_count": 50,
     "metadata": {},
     "output_type": "execute_result"
    },
    {
     "data": {
      "image/png": "[encoded data removed]",
      "text/plain": [
       "<Figure size 432x288 with 1 Axes>"
      ]
     },
     "metadata": {
      "needs_background": "light"
     },
     "output_type": "display_data"
    }
   ],
   "source": [
    "plt.hist(data1,alpha = 0.4)\n",
    "plt.hist(data2,alpha = 0.4)"
   ]
  },
  {
   "cell_type": "code",
   "execution_count": 53,
   "id": "convinced-david",
   "metadata": {},
   "outputs": [],
   "source": [
    "import scipy.stats as stats"
   ]
  },
  {
   "cell_type": "code",
   "execution_count": 54,
   "id": "raised-survival",
   "metadata": {},
   "outputs": [],
   "source": [
    "t_stat, p = stats.ttest_ind(data1,data2)"
   ]
  },
  {
   "cell_type": "code",
   "execution_count": 55,
   "id": "lonely-depth",
   "metadata": {},
   "outputs": [
    {
     "data": {
      "text/plain": [
       "0.42383531469832336"
      ]
     },
     "execution_count": 55,
     "metadata": {},
     "output_type": "execute_result"
    }
   ],
   "source": [
    "t_stat"
   ]
  },
  {
   "cell_type": "code",
   "execution_count": 56,
   "id": "convinced-orange",
   "metadata": {},
   "outputs": [
    {
     "data": {
      "text/plain": [
       "0.6721460008376874"
      ]
     },
     "execution_count": 56,
     "metadata": {},
     "output_type": "execute_result"
    }
   ],
   "source": [
    "p"
   ]
  },
  {
   "cell_type": "markdown",
   "id": "italian-addition",
   "metadata": {},
   "source": [
    "### Question 6\n",
    "This question is about Q-Q-plots. Diplay the Q-Q plots for the following cases:\n",
    "1. A sample of 4000 normal random data points.\n",
    "2. A sample of 4000 exponential random data points."
   ]
  },
  {
   "cell_type": "code",
   "execution_count": 63,
   "id": "russian-potato",
   "metadata": {},
   "outputs": [
    {
     "data": {
      "image/png": "[encoded data removed]",
      "text/plain": [
       "<Figure size 432x288 with 1 Axes>"
      ]
     },
     "metadata": {
      "needs_background": "light"
     },
     "output_type": "display_data"
    }
   ],
   "source": [
    "data = np.random.randn(4000)\n",
    "stats.probplot(data, plot = plt);"
   ]
  },
  {
   "cell_type": "code",
   "execution_count": 64,
   "id": "professional-tennis",
   "metadata": {},
   "outputs": [
    {
     "data": {
      "image/png": "[encoded data removed]",
      "text/plain": [
       "<Figure size 432x288 with 1 Axes>"
      ]
     },
     "metadata": {
      "needs_background": "light"
     },
     "output_type": "display_data"
    }
   ],
   "source": [
    "data = np.random.exponential(scale = 1, size = 4000)\n",
    "stats.probplot(data, plot = plt, dist = 'expon');"
   ]
  },
  {
   "cell_type": "code",
   "execution_count": null,
   "id": "psychological-brick",
   "metadata": {},
   "outputs": [],
   "source": []
  },
  {
   "cell_type": "code",
   "execution_count": null,
   "id": "ambient-knitting",
   "metadata": {},
   "outputs": [],
   "source": []
  }
 ],
 "metadata": {
  "kernelspec": {
   "display_name": "Python 3",
   "language": "python",
   "name": "python3"
  },
  "language_info": {
   "codemirror_mode": {
    "name": "ipython",
    "version": 3
   },
   "file_extension": ".py",
   "mimetype": "text/x-python",
   "name": "python",
   "nbconvert_exporter": "python",
   "pygments_lexer": "ipython3",
   "version": "3.9.2"
  }
 },
 "nbformat": 4,
 "nbformat_minor": 5
}
