{
 "cells": [
  {
   "cell_type": "code",
   "execution_count": 1,
   "id": "liquid-muscle",
   "metadata": {},
   "outputs": [
    {
     "name": "stdout",
     "output_type": "stream",
     "text": [
      "Collecting bokeh\n",
      "  Downloading bokeh-2.3.1.tar.gz (10.6 MB)\n",
      "Collecting PyYAML>=3.10\n",
      "  Downloading PyYAML-5.4.1-cp39-cp39-win_amd64.whl (213 kB)\n",
      "Requirement already satisfied: python-dateutil>=2.1 in c:\\users\\jessi\\anaconda3\\envs\\jessidata\\lib\\site-packages (from bokeh) (2.8.1)\n",
      "Requirement already satisfied: Jinja2>=2.7 in c:\\users\\jessi\\anaconda3\\envs\\jessidata\\lib\\site-packages (from bokeh) (2.11.3)\n",
      "Requirement already satisfied: numpy>=1.11.3 in c:\\users\\jessi\\anaconda3\\envs\\jessidata\\lib\\site-packages (from bokeh) (1.20.1)\n",
      "Requirement already satisfied: pillow>=7.1.0 in c:\\users\\jessi\\anaconda3\\envs\\jessidata\\lib\\site-packages (from bokeh) (8.1.2)\n",
      "Requirement already satisfied: packaging>=16.8 in c:\\users\\jessi\\anaconda3\\envs\\jessidata\\lib\\site-packages (from bokeh) (20.9)\n",
      "Requirement already satisfied: tornado>=5.1 in c:\\users\\jessi\\anaconda3\\envs\\jessidata\\lib\\site-packages (from bokeh) (6.1)\n",
      "Collecting typing_extensions>=3.7.4\n",
      "  Downloading typing_extensions-3.7.4.3-py3-none-any.whl (22 kB)\n",
      "Requirement already satisfied: MarkupSafe>=0.23 in c:\\users\\jessi\\anaconda3\\envs\\jessidata\\lib\\site-packages (from Jinja2>=2.7->bokeh) (1.1.1)\n",
      "Requirement already satisfied: pyparsing>=2.0.2 in c:\\users\\jessi\\anaconda3\\envs\\jessidata\\lib\\site-packages (from packaging>=16.8->bokeh) (2.4.7)\n",
      "Requirement already satisfied: six>=1.5 in c:\\users\\jessi\\anaconda3\\envs\\jessidata\\lib\\site-packages (from python-dateutil>=2.1->bokeh) (1.15.0)\n",
      "Building wheels for collected packages: bokeh\n",
      "  Building wheel for bokeh (setup.py): started\n",
      "  Building wheel for bokeh (setup.py): finished with status 'done'\n",
      "  Created wheel for bokeh: filename=bokeh-2.3.1-py3-none-any.whl size=11299689 sha256=cc4eb2db6882a31877fd3740551a7110629712d2fb0026e9e9dd0ab6b47bb687\n",
      "  Stored in directory: c:\\users\\jessi\\appdata\\local\\pip\\cache\\wheels\\53\\a2\\b9\\8456ef4d7d1a41927a1e9e19a6a2cccbfd0833dadf6cbff597\n",
      "Successfully built bokeh\n",
      "Installing collected packages: typing-extensions, PyYAML, bokeh\n",
      "Successfully installed PyYAML-5.4.1 bokeh-2.3.1 typing-extensions-3.7.4.3\n",
      "Note: you may need to restart the kernel to use updated packages.\n"
     ]
    }
   ],
   "source": [
    "pip install bokeh"
   ]
  },
  {
   "cell_type": "code",
   "execution_count": null,
   "id": "alleged-paris",
   "metadata": {},
   "outputs": [],
   "source": [
    "pip"
   ]
  }
 ],
 "metadata": {
  "kernelspec": {
   "display_name": "Python 3",
   "language": "python",
   "name": "python3"
  },
  "language_info": {
   "codemirror_mode": {
    "name": "ipython",
    "version": 3
   },
   "file_extension": ".py",
   "mimetype": "text/x-python",
   "name": "python",
   "nbconvert_exporter": "python",
   "pygments_lexer": "ipython3",
   "version": "3.9.2"
  }
 },
 "nbformat": 4,
 "nbformat_minor": 5
}
